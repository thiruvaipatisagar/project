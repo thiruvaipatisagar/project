{
  "nbformat": 4,
  "nbformat_minor": 0,
  "metadata": {
    "colab": {
      "provenance": []
    },
    "kernelspec": {
      "name": "python3",
      "display_name": "Python 3"
    },
    "language_info": {
      "name": "python"
    }
  },
  "cells": [
    {
      "cell_type": "code",
      "source": [
        "expenses = []\n",
        "expense1 = {'amount': '51.00', 'category': 'shirt'}\n",
        "expenses.append(expense1)\n",
        "expense2 = {'amount': '21.55', 'category': 'groceries'}\n",
        "expenses.append(expense2)\n",
        "\n",
        "1\n",
        "\n",
        "def removeExpense():\n",
        "  while True:\n",
        "    listExpenses()\n",
        "    print(\"What expense would you like to remove?\")\n",
        "    try:\n",
        "      expenseToRemove = int(input(\"> \"))\n",
        "      del expenses[expenseToRemove]\n",
        "      break\n",
        "    except:\n",
        "      print(\"Invalid input. Please try again.\")\n",
        "\n",
        "\n",
        "def addExpense(amount, category):\n",
        "  expense = {'amount': amount, 'category': category}\n",
        "  expenses.append(expense)\n",
        "\n",
        "\n",
        "def printMenu():\n",
        "  print(\"Please choose from one of the following options...\")\n",
        "  print(\"1. Add A New Expense\")\n",
        "  print(\"2. Remove An Exepense\")\n",
        "  print(\"3. List All Exepenses\")\n",
        "\n",
        "\n",
        "def listExpenses():\n",
        "  print(\"\\nHere is a list of your expenses...\")\n",
        "  print(\"------------------------------------\")\n",
        "  counter = 0\n",
        "  for expense in expenses:\n",
        "    print(\"#\", counter, \" - \", expense['amount'], \" - \", expense['category'])\n",
        "    counter += 1\n",
        "  print(\"\\n\\n\")\n",
        "\n",
        "\n",
        "if __name__ == \"__main__\":\n",
        "  while True:\n",
        "    ### Prompt the user\n",
        "    printMenu()\n",
        "    optionSelected = input(\"> \")\n",
        "\n",
        "    if (optionSelected == \"1\"):\n",
        "      print(\"How much was this expense?\")\n",
        "      while True:\n",
        "        try:\n",
        "          amountToAdd = input(\"> \")\n",
        "          break\n",
        "        except:\n",
        "          print(\"Invalid input. Please try again.\")\n",
        "\n",
        "      print(\"What category was this expense?\")\n",
        "      while True:\n",
        "        try:\n",
        "          category = input(\"> \")\n",
        "          break\n",
        "        except:\n",
        "          print(\"Invalid input. Please try again.\")\n",
        "\n",
        "      addExpense(amountToAdd, category)\n",
        "    elif (optionSelected == \"2\"):\n",
        "      removeExpense()\n",
        "    elif (optionSelected == \"3\"):\n",
        "      listExpenses()\n",
        "    else:\n",
        "      print(\"Invalid input. Please try again.\")"
      ],
      "metadata": {
        "colab": {
          "base_uri": "https://localhost:8080/"
        },
        "id": "U0O8QTn7FTGi",
        "outputId": "f3c755d9-fb4f-4b2b-a997-c0b9b12630eb"
      },
      "execution_count": null,
      "outputs": [
        {
          "metadata": {
            "tags": null
          },
          "name": "stdout",
          "output_type": "stream",
          "text": [
            "Please choose from one of the following options...\n",
            "1. Add A New Expense\n",
            "2. Remove An Exepense\n",
            "3. List All Exepenses\n",
            "How much was this expense?\n",
            "What category was this expense?\n",
            "Please choose from one of the following options...\n",
            "1. Add A New Expense\n",
            "2. Remove An Exepense\n",
            "3. List All Exepenses\n",
            "\n",
            "Here is a list of your expenses...\n",
            "------------------------------------\n",
            "# 0  -  51.00  -  shirt\n",
            "# 1  -  21.55  -  groceries\n",
            "# 2  -  1000  -  dress\n",
            "\n",
            "\n",
            "\n",
            "Please choose from one of the following options...\n",
            "1. Add A New Expense\n",
            "2. Remove An Exepense\n",
            "3. List All Exepenses\n"
          ]
        }
      ]
    }
  ]
}